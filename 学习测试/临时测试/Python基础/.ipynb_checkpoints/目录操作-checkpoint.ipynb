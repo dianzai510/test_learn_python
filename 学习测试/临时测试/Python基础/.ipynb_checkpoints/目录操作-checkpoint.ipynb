{
 "cells": [
  {
   "cell_type": "code",
   "execution_count": 4,
   "id": "1e793cf9-5096-4bf9-a62b-1c0a205e6da8",
   "metadata": {},
   "outputs": [
    {
     "name": "stdout",
     "output_type": "stream",
     "text": [
      "['0', '1']\n"
     ]
    }
   ],
   "source": [
    "import os\n",
    "\n",
    "listdir = os.listdir('D:\\work\\program\\数据集\\正反识别2')\n",
    "print(listdir)"
   ]
  },
  {
   "cell_type": "code",
   "execution_count": 19,
   "id": "11024a99-dddb-42fb-b855-b7690ef50c3e",
   "metadata": {},
   "outputs": [
    {
     "name": "stdout",
     "output_type": "stream",
     "text": [
      "D:\\work\\program\\Python\\TestPython\\Python基础\n",
      "Python基础\n"
     ]
    }
   ],
   "source": [
    "p=os.getcwd()\n",
    "print(p)\n",
    "list=p.split('\\\\')\n",
    "print(list[-1])"
   ]
  },
  {
   "cell_type": "code",
   "execution_count": 12,
   "id": "6961c5e7-2996-4cfa-83ae-0a93b0869b31",
   "metadata": {},
   "outputs": [],
   "source": [
    "root,dirs,files = os.walk('D:\\work\\program\\数据集\\正反识别2')"
   ]
  },
  {
   "cell_type": "code",
   "execution_count": 13,
   "id": "9e152362-f6de-47a1-be47-e2280b0b48fd",
   "metadata": {},
   "outputs": [
    {
     "name": "stdout",
     "output_type": "stream",
     "text": [
      "('D:\\\\work\\\\program\\\\数据集\\\\正反识别2\\\\1', [], ['1 (1).png', '1 (10).png', '1 (11).png', '1 (12).png', '1 (13).png', '1 (14).png', '1 (15).png', '1 (16).png', '1 (2).png', '1 (3).png', '1 (4).png', '1 (5).png', '1 (6).png', '1 (7).png', '1 (8).png', '1 (9).png', 'IMG_20210928_085225.jpg', 'IMG_20210928_085243.jpg', 'IMG_20210928_085245.jpg'])\n"
     ]
    }
   ],
   "source": [
    "print(root)\n",
    "print(dirs)\n",
    "print(files)"
   ]
  }
 ],
 "metadata": {
  "kernelspec": {
   "display_name": "Python 3 (ipykernel)",
   "language": "python",
   "name": "python3"
  },
  "language_info": {
   "codemirror_mode": {
    "name": "ipython",
    "version": 3
   },
   "file_extension": ".py",
   "mimetype": "text/x-python",
   "name": "python",
   "nbconvert_exporter": "python",
   "pygments_lexer": "ipython3",
   "version": "3.9.9"
  }
 },
 "nbformat": 4,
 "nbformat_minor": 5
}
